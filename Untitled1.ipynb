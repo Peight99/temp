{
 "cells": [
  {
   "cell_type": "code",
   "execution_count": null,
   "id": "1332c41d-dc9d-4fb7-a4e4-b2aa2a7dda64",
   "metadata": {},
   "outputs": [],
   "source": [
    "def MC_first_visit_prediction(policy, env, num_episodes, gamma=1.0):\n",
    "    V,states,rewards=[],[],[]\n",
    "    for _ in range(env.observation_space.n) :\n",
    "        V.append(0) \n",
    "    returns=[]\n",
    "    for _ in range(env.observation_space.n) :\n",
    "        returns.append([])\n",
    "    observation, info = env.reset()\n",
    "    states.append(observation) #this is S0\n",
    "    rewards.append(0) #this is R0 that is not counted\n",
    "    for episode in range(num_episodes):\n",
    "        while True:\n",
    "            observation, reward, terminated, truncated, info = env.step(env.action_space.sample())\n",
    "            rewards.append(reward)\n",
    "            states.append(observation) #the last does not need to be counted\n",
    "            if terminated or truncated:\n",
    "                break\n",
    "        G = 0\n",
    "        T = len(states)-1\n",
    "        for i in range(T):  #this generates a list from 0 to T-1\n",
    "            t = T-1-i\n",
    "            G=gamma*G+rewards[t+1]\n",
    "            if not (states[t] in states[:t]):\n",
    "                    returns[states[t]].append(G)\n",
    "                    V[states[t]]=Average(returns[states[t]])\n",
    "        states.clear()\n",
    "        rewards.clear()\n",
    "        observation, info = env.reset()\n",
    "        states.append(observation) #this is S0\n",
    "        rewards.append(0) #this is R0 that is not counted\n",
    "    return V"
   ]
  }
 ],
 "metadata": {
  "kernelspec": {
   "display_name": "myvirtualenv",
   "language": "python",
   "name": "myvirtualenv"
  },
  "language_info": {
   "codemirror_mode": {
    "name": "ipython",
    "version": 3
   },
   "file_extension": ".py",
   "mimetype": "text/x-python",
   "name": "python",
   "nbconvert_exporter": "python",
   "pygments_lexer": "ipython3",
   "version": "3.11.4"
  }
 },
 "nbformat": 4,
 "nbformat_minor": 5
}
